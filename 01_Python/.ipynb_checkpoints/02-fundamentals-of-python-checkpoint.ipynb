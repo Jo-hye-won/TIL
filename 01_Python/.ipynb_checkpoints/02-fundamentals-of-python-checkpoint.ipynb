{
 "cells": [
  {
   "attachments": {},
   "cell_type": "markdown",
   "metadata": {},
   "source": [
    "# Hello, python"
   ]
  },
  {
   "attachments": {},
   "cell_type": "markdown",
   "metadata": {},
   "source": [
    "## 파이썬"
   ]
  },
  {
   "attachments": {},
   "cell_type": "markdown",
   "metadata": {},
   "source": [
    "### 파이썬 소개\n",
    "\n",
    "#### 파이썬의 사용성과 인기\n",
    "> https://www.jetbrains.com/ko-kr/lp/devecosystem-2022/\n",
    "\n",
    "![image](https://github.com/ragu6963/TIL/assets/32388270/796f1eea-e313-4a43-981e-f532d7b9d198)\n",
    "\n",
    "![image](https://github.com/ragu6963/TIL/assets/32388270/86c153be-deab-4344-9c80-b0f17f5a4270)\n"
   ]
  },
  {
   "attachments": {},
   "cell_type": "markdown",
   "metadata": {},
   "source": [
    "#### 파이썬을 사용하는 이유\n",
    "- 간결하고 읽기 쉬운 문법\n",
    "- 다양한 응용 분야\n",
    "    - 데이터 분석, 인공지능, 웹 개발, 자동화 등\n",
    "- 파이썬 커뮤니티의 지원​\n",
    "    - 세계적인 규모의 풍부한 온라인 포럼 및 커뮤니티 생태계"
   ]
  },
  {
   "attachments": {},
   "cell_type": "markdown",
   "metadata": {},
   "source": [
    "### 파이썬 실행\n",
    "\n",
    "#### 파이썬 프로그램이 실행되는 법\n",
    "- 컴퓨터는 기계어로 소통하기 때문에 사람이 기계어를 직접 작성하기 어려움\n",
    "\n",
    "    ![image](https://github.com/ragu6963/TIL/assets/32388270/0c62ec2c-6dbe-463f-b95d-17dc1d15bc62)\n",
    "    \n",
    "- 인터프리터가 사용자의 명령어를 운영체제가 이해하는 언어로 바꿈\n",
    "\n",
    "    ![image](https://github.com/ragu6963/TIL/assets/32388270/6318332e-9c76-4c2b-b183-21280b338b8a)\n"
   ]
  },
  {
   "attachments": {},
   "cell_type": "markdown",
   "metadata": {},
   "source": [
    "\n",
    "#### 파이썬 인터프리터를 사용하는 2가지 방법​\n",
    "1. shell 이라는 프로그램으로 한 번에 한 명령어 씩 입력해서 실행​\n",
    "\n",
    "![image](https://github.com/ragu6963/TIL/assets/32388270/bd3af0bb-98a8-4b96-876c-400b6db84563)\n",
    "\n",
    "2. 확장자가 .py인 파일에 작성된 파이썬 프로그램을 실행\n",
    "\n",
    "![image](https://github.com/ragu6963/TIL/assets/32388270/6cfdbd58-6edc-4103-8364-486bd1f7b59e)"
   ]
  },
  {
   "attachments": {},
   "cell_type": "markdown",
   "metadata": {},
   "source": [
    "### 표현식과 값\n",
    "\n",
    "#### 표현식​(Expression)\n",
    "값, 변수, 연산자 등을 조합하여 계산되고 결과를 내는 코드 구조​\n",
    "\n"
   ]
  },
  {
   "attachments": {},
   "cell_type": "markdown",
   "metadata": {},
   "source": [
    "##### 예시\n",
    "```python\n",
    "1 + 2\n",
    "'hello'\n",
    "greeting = 'hi'\n",
    "5 * 21 - 4\n",
    "```\n",
    "\n",
    "> 표현식이 <span style='color:red'>평가</span>되어 값이 반환됨"
   ]
  },
  {
   "attachments": {},
   "cell_type": "markdown",
   "metadata": {},
   "source": [
    "#### 평가(evaluate)\n",
    "표현식이나 문장을 실행하여 그 결과를 계산하고 값을 결정하는 과정​\n",
    "\n",
    "> <span style='color:red'> 표현식이나 문장을 순차적으로 평가하여 프로그램의 동작을 결정</span>\n",
    "\n"
   ]
  },
  {
   "attachments": {},
   "cell_type": "markdown",
   "metadata": {},
   "source": [
    "#### 문장(statement)\n",
    "실행 가능한 동작을 기술하는 코드 \n",
    "(조건문, 반복문, 함수 정의 등)\n",
    "\n"
   ]
  },
  {
   "attachments": {},
   "cell_type": "markdown",
   "metadata": {},
   "source": [
    "#### 표현식과 문장\n",
    "> 문장은 보통 여러 개의 표현식을 포함\n",
    "\n",
    "![image](https://github.com/ragu6963/TIL/assets/32388270/39aa9d7f-aa5b-44eb-a661-dae74c4af7b2)"
   ]
  },
  {
   "attachments": {},
   "cell_type": "markdown",
   "metadata": {},
   "source": [
    "### 타입\n",
    "\n",
    "#### 타입(Type)\n",
    "- 값이 어떤 종류의 데이터인지, 어떻게 해석되고 처리되어야 하는지를 정의\n",
    "- 타입은 2가지 요소로 이루어짐 \n",
    "    - <span style='color:red'>“값”</span>과 <span style='color:red'>“값에 적용할 수 있는 연산”</span>\n",
    "\n",
    "![image](https://github.com/ragu6963/TIL/assets/32388270/8124c2d4-f2b7-4c29-b11f-b08fb478b5d8)\n",
    "\n"
   ]
  },
  {
   "attachments": {},
   "cell_type": "markdown",
   "metadata": {},
   "source": [
    "#### 데이터 타입\n",
    "- Numeric Types\n",
    "    - int (정수), float (실수), complex (복소수)\n",
    "- Sequence Types\n",
    "    - list, tuple, range\n",
    "- Text Sequence Type\n",
    "    - str (문자열)\n",
    "- Set Types\n",
    "    - set\n",
    "- Mapping Types\n",
    "    - dict\n",
    "- 기타\n",
    "    - None, Boolean, Functions\n",
    "\n"
   ]
  },
  {
   "attachments": {},
   "cell_type": "markdown",
   "metadata": {},
   "source": [
    "#### 산술 연산자\n",
    "| 기호 | 연산자        |\n",
    "|:---:|:----------:|\n",
    "| -  | 음수 부호      |\n",
    "| +  | 덧셈         |\n",
    "| -  | 뺄셈         |\n",
    "| *  | 곱셈         |\n",
    "| /  | 나눗셈        |\n",
    "| // | 정수 나눗셈 (몫) |\n",
    "| %  | 나머지        |\n",
    "| ** | 지수 (거듭제곱)  |\n",
    "\n"
   ]
  },
  {
   "attachments": {},
   "cell_type": "markdown",
   "metadata": {},
   "source": [
    "#### 연산자 우선순위\n",
    "| 우선순위 | 연산자         | 연산                   |\n",
    "|:----:|:-----------:|:--------------------:|\n",
    "| 높음   | **          | 지수                   |\n",
    "|      | -           | 음수 부호                |\n",
    "|      | *, /, //, % | 곱셈, 나눗셈, 정수 나눗셈, 나머지 |\n",
    "| 낮음   | +, -        | 덧셈, 뺄셈               |\n",
    "\n",
    "\n"
   ]
  },
  {
   "attachments": {},
   "cell_type": "markdown",
   "metadata": {},
   "source": [
    "#### 연산자 우선순위 예시\n",
    "```python\n",
    "# -16\n",
    "-2 ** 4\n",
    "\n",
    "# -16\n",
    "-(2 ** 4)\n",
    "\n",
    "# 16\n",
    "(-2) ** 4\n",
    "```"
   ]
  },
  {
   "attachments": {},
   "cell_type": "markdown",
   "metadata": {},
   "source": [
    "#### 실행 해보기"
   ]
  },
  {
   "cell_type": "code",
   "execution_count": null,
   "metadata": {},
   "outputs": [],
   "source": [
    "# 실행 해보기 1\n",
    "print(-2 ** 4)\n",
    "print(-(2 ** 4))\n",
    "print((-2) ** 4)"
   ]
  },
  {
   "attachments": {},
   "cell_type": "markdown",
   "metadata": {},
   "source": [
    "### 변수와 메모리 \"값이 저장되는 법\"\n",
    "\n",
    "#### 변수(variable)\n",
    "값을 <span style='color:red'>참조</span>하는 이름\n"
   ]
  },
  {
   "attachments": {},
   "cell_type": "markdown",
   "metadata": {},
   "source": [
    "#### 할당문\n",
    "```python\n",
    "degrees = 36.5\n",
    "```\n",
    "“변수 degrees에 값 36.5를 <span style='color:red'>할당</span>했다”\n",
    "\n"
   ]
  },
  {
   "attachments": {},
   "cell_type": "markdown",
   "metadata": {},
   "source": [
    "#### 변수명 규칙\n",
    "- 영문 알파벳, 언더스코어(_), 숫자로 구성\n",
    "- 숫자로 시작할 수 없음\n",
    "- 대소문자를 구분\n",
    "- 아래 키워드는 파이썬의 내부 예약어로 사용할 수 없음\n",
    "\n",
    "    ```python\n",
    "    ['False', 'None', 'True', '__peg_parser__', 'and', 'as', 'assert', \n",
    "    'async', 'await', 'break', 'class', 'continue', 'def', 'del', \n",
    "    'elif', 'else', 'except', 'finally', 'for', 'from', 'global', \n",
    "    'if', 'import', 'in', 'is', 'lambda', 'nonlocal', 'not', \n",
    "    'or', 'pass', 'raise', 'return', 'try', 'while', 'with', 'yield']\n",
    "    ```\n",
    "\n"
   ]
  },
  {
   "attachments": {},
   "cell_type": "markdown",
   "metadata": {},
   "source": [
    "#### 변수, 값 그리고 메모리\n",
    "- 거리에 집 주소가 있듯이 메모리의 모든 위치에는 그 위치를 고유하게 식별하는 메모리 주소가 존재\n",
    "\n",
    "![image](https://github.com/ragu6963/TIL/assets/32388270/52e0c752-978c-4b5c-b7a2-5cc88b4b3494)\n",
    "\n",
    "- 객체 (Object)\n",
    "    - 타입을 갖는 메모리 주소 내 값\n",
    "    - “값이 들어있는 상자”\n",
    "    \n",
    "![image](https://github.com/ragu6963/TIL/assets/32388270/a0d8f9be-d895-4d93-b8ee-bbc9338ba1c5)\n",
    "\n",
    "\n",
    "- 변수는 그 변수가 참조하는 객체의 메모리 주소를 가짐\n",
    "- 변수 degrees는 값 36.5를 참조\n",
    "\n",
    "![image](https://github.com/ragu6963/TIL/assets/32388270/b5dfec1e-9f57-4dba-bf47-d333c988a1ab)\n",
    "\n",
    "\n"
   ]
  },
  {
   "attachments": {},
   "cell_type": "markdown",
   "metadata": {},
   "source": [
    "#### 할당문\n",
    "![image](https://github.com/ragu6963/TIL/assets/32388270/21737370-e926-4b74-9055-436ed9e26270)\n",
    "1. 할당 연산자(=) 오른쪽에 있는 표현식을 평가해서 값(메모리 주소)을 생성\n",
    "2. 값의 메모리 주소를 ‘=‘ 왼쪽에 있는 변수에 저장\n",
    "- 존재하지 않는 변수라면\n",
    "    - 새 변수를 생성\n",
    "- 기존에 존재했던 변수라면\n",
    "    - 기존 변수를 재사용해서 변수에 들어 있는 메모리 주소를 변경\n",
    "\n",
    "\n"
   ]
  },
  {
   "attachments": {},
   "cell_type": "markdown",
   "metadata": {},
   "source": [
    "#### 변수에 재할당\n",
    "- 변수 double의 값은 무엇일까?\n",
    "\n",
    "    ```python \n",
    "    number = 10\n",
    "    double = 2 * number\n",
    "    print(double)  # 20\n",
    "    number = 5\n",
    "    print(double)  # ??\n",
    "    ```\n",
    "\n",
    "- 변수 double에는 값 20의 주소가 들어 있으니 여전히 20을 참조\n",
    "\n",
    "    ```python\n",
    "    number = 10\n",
    "    double = 2 * number\n",
    "    print(double)  # 20\n",
    "    number = 5\n",
    "    print(double)  # 20\n",
    "    ```\n",
    "![image](https://github.com/ragu6963/TIL/assets/32388270/b1095d47-ba4b-4994-aff2-f70d63d844b6)"
   ]
  },
  {
   "attachments": {},
   "cell_type": "markdown",
   "metadata": {},
   "source": [
    "#### 실행 해보기"
   ]
  },
  {
   "cell_type": "code",
   "execution_count": null,
   "metadata": {},
   "outputs": [],
   "source": [
    "# 실행 해보기\n",
    "number = 10\n",
    "double = 2 * number\n",
    "print(double)\n",
    "number = 5\n",
    "print(double)"
   ]
  },
  {
   "attachments": {},
   "cell_type": "markdown",
   "metadata": {},
   "source": [
    "## 읽기 좋은 코드\n",
    "### Style Guide\n",
    "코드의 일관성과 가독성을 향상시키기 위한 규칙과 권장 사항들의 모음\n",
    "\n",
    "#### 파이썬 Style Guide\n",
    "- 변수명은 무엇을 위한 변수인지 직관적인 이름을 가져야 함\n",
    "- 공백(spaces) 4칸을 사용하여 코드 블록을 들여쓰기\n",
    "- 한 줄의 길이는 79자로 제한하며, 길어질 경우 줄 바꿈을 사용\n",
    "- 문자와 밑줄(_)을 사용하여 함수, 변수, 속성의 이름을 작성\n",
    "- 함수 정의나 클래스 정의 등의 블록 사이에는 빈 줄을 추가\n",
    "\n",
    "> 파이썬 스타일 가이드 PEP 8 참고 문서 : https://peps.python.org/pep-0008/"
   ]
  },
  {
   "attachments": {},
   "cell_type": "markdown",
   "metadata": {},
   "source": [
    "## 참고\n",
    "### Python Tutor\n",
    "\n",
    "#### Python Tutor\n",
    "- 파이썬 프로그램이 어떻게 실행되는지 도와주는 시각화 도우미\n",
    "> https://pythontutor.com/"
   ]
  },
  {
   "attachments": {},
   "cell_type": "markdown",
   "metadata": {},
   "source": [
    "#### Python Tutor 사용 예시\n",
    "![image](https://github.com/ragu6963/TIL/assets/32388270/094746d2-f1f1-4637-99da-c5830eddce22)\n",
    "![image](https://github.com/ragu6963/TIL/assets/32388270/1453f343-2ca2-41a0-ae73-35ded79f05d7)"
   ]
  },
  {
   "attachments": {},
   "cell_type": "markdown",
   "metadata": {},
   "source": [
    "### 주석\n",
    "#### 주석(comment)\n",
    "- 프로그램 코드 내에 작성되는 설명이나 메모\n",
    "- 인터프리터에 의해 실행되지 않음\n",
    "\n",
    "    ```python\n",
    "    # 이것은\n",
    "    age = 10\n",
    "\n",
    "    # 주석입니다\n",
    "    print(age)\n",
    "\n",
    "    \"\"\"\n",
    "    여러 줄 주석\n",
    "    \"\"\"\n",
    "    ```"
   ]
  },
  {
   "attachments": {},
   "cell_type": "markdown",
   "metadata": {},
   "source": [
    "#### 주석의 목적\n",
    "- 코드의 특정 부분을 설명하거나 임시로 코드를 비활성화할 때 \n",
    "- 코드를 이해하거나 문서화하기 위해 \n",
    "- 다른 개발자나 자신에게 코드의 의도나 동작을 설명하는 데 도움\n"
   ]
  }
 ],
 "metadata": {
  "kernelspec": {
   "display_name": "Python 3",
   "language": "python",
   "name": "python3"
  },
  "language_info": {
   "codemirror_mode": {
    "name": "ipython",
    "version": 3
   },
   "file_extension": ".py",
   "mimetype": "text/x-python",
   "name": "python",
   "nbconvert_exporter": "python",
   "pygments_lexer": "ipython3",
   "version": "3.9.13"
  },
  "orig_nbformat": 4
 },
 "nbformat": 4,
 "nbformat_minor": 2
}
