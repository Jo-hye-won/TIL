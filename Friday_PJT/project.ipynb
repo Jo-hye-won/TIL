{
 "cells": [
  {
   "cell_type": "markdown",
   "metadata": {},
   "source": [
    "# 관통 프로젝트?\n",
    " - 강의에 배운 내용들 모두 포함, 추가적인 내용 학습, 프로젝트 도전!\n",
    " - 협업경험, 어려웠던 점 경험, 설득력, github, web개발은 한눈에 보여서 더 중요\n",
    " - 관통 ver1_ 금융 데이터를 활용한 금융 상품 비교 애플리케이션\n",
    " - 마이뱅크, Bankbook 과 같은 금융상품 비교 앱\n",
    " - PJT01 -> PJT02 -> .... -> PJT05부터는 변경 불가! -> PJT10(1학기 마지막)\n",
    " - API 이해하기 \n",
    "\n",
    " ### 실습 목표\n",
    " - 파이썬으로, 인터넷에 있는 날씨 정보를 가져와, 내가 원하는 정보만 출력\n",
    " - 실습 프로젝트 진행하기 위해선 날씨 데이터가 있어야 함\n",
    " - 간단하게, 인터넷에 있는 데이터를 가져오면 됨\n",
    " - 데이터를 가져오는 방법을 이해하기 위해서 반드시 알아야 할 전문용어들이 있음\n",
    "\n",
    " ### 서버와 클라이언트\n",
    "1. 서버 : 부탁을 받으면 처리해주거나, 부탁대로 원하는 값을 돌려주는 역할(원하는 정보 줄게) / 정보 돌려줌\n",
    "2. 클라이언트 : 부탁하는 역할(너가 가진 정보 줘) / 정보 요청\n",
    "- ex. 크롬 브라우저가 클라이언트 - 네이버 서버에다가 메인 화면 줘 하고 요청 -> 네이버 서버가 메인화면 정보를 줘서 -> 브라우저가 그 정보를 토대로 우리에게 보여주는 것\n",
    "- 이번 프로젝트에서는 날씨 정보가 필요 : 날씨 정보를 가지고 있는 서버에 날씨 정보를 달라고 요청하면 됨\n",
    "\n",
    "### 어떻게 요청을 보낼 수 있을까? requests python 라이브러리 / 브라우저(주소)\n",
    "1. 웹 브라우저(크롬)을 켜서 주소창에 주소 입력\n",
    "2. 서버에 정보 요청하는 파이썬 코드 작성\n",
    "\n",
    "1. [웹 브라우저(크롬)을 켜서 URL에 접속](https://fakestoreapi.com/carts ) \n",
    "- 쇼핑몰처럼 가짜 더미 데이터 제공하는 곳 : 크롬에 서버url입력하면 서버에 요청하고 서버가 정보를 제공해서 데이터를 제공함.\n",
    "2. 서버에 정보를 달라는 파이썬 코드를 작성\n",
    "- Vscode를 켜고 터미널 창 열어주기\n",
    "- requests 명령어 실행해서 필요한 도구 설치 : 파이썬에서 서버에 요청을 보낼 수 있는 도구\n"
   ]
  },
  {
   "cell_type": "code",
   "execution_count": 1,
   "metadata": {},
   "outputs": [
    {
     "name": "stdout",
     "output_type": "stream",
     "text": [
      "Note: you may need to restart the kernel to use updated packages.\n"
     ]
    },
    {
     "name": "stderr",
     "output_type": "stream",
     "text": [
      "ERROR: unknown command \"istall\" - maybe you meant \"install\"\n",
      "\n"
     ]
    }
   ],
   "source": [
    "pip istall requests"
   ]
  },
  {
   "cell_type": "code",
   "execution_count": 4,
   "metadata": {},
   "outputs": [
    {
     "name": "stdout",
     "output_type": "stream",
     "text": [
      "<Response [200]>\n"
     ]
    }
   ],
   "source": [
    "import requests\n",
    "\n",
    "url = 'https://fakestoreapi.com/carts'\n",
    "response = requests.get(url)\n",
    "print(response)"
   ]
  },
  {
   "cell_type": "code",
   "execution_count": 5,
   "metadata": {},
   "outputs": [
    {
     "name": "stdout",
     "output_type": "stream",
     "text": [
      "[{'id': 1, 'userId': 1, 'date': '2020-03-02T00:00:00.000Z', 'products': [{'productId': 1, 'quantity': 4}, {'productId': 2, 'quantity': 1}, {'productId': 3, 'quantity': 6}], '__v': 0}, {'id': 2, 'userId': 1, 'date': '2020-01-02T00:00:00.000Z', 'products': [{'productId': 2, 'quantity': 4}, {'productId': 1, 'quantity': 10}, {'productId': 5, 'quantity': 2}], '__v': 0}, {'id': 3, 'userId': 2, 'date': '2020-03-01T00:00:00.000Z', 'products': [{'productId': 1, 'quantity': 2}, {'productId': 9, 'quantity': 1}], '__v': 0}, {'id': 4, 'userId': 3, 'date': '2020-01-01T00:00:00.000Z', 'products': [{'productId': 1, 'quantity': 4}], '__v': 0}, {'id': 5, 'userId': 3, 'date': '2020-03-01T00:00:00.000Z', 'products': [{'productId': 7, 'quantity': 1}, {'productId': 8, 'quantity': 1}], '__v': 0}, {'id': 6, 'userId': 4, 'date': '2020-03-01T00:00:00.000Z', 'products': [{'productId': 10, 'quantity': 2}, {'productId': 12, 'quantity': 3}], '__v': 0}, {'id': 7, 'userId': 8, 'date': '2020-03-01T00:00:00.000Z', 'products': [{'productId': 18, 'quantity': 1}], '__v': 0}]\n"
     ]
    }
   ],
   "source": [
    "import requests\n",
    "\n",
    "url = 'https://fakestoreapi.com/carts'\n",
    "response = requests.get(url)\n",
    "print(response.json()) # json은 뒤에서 더 설명할 것"
   ]
  },
  {
   "cell_type": "markdown",
   "metadata": {},
   "source": [
    "## 파이썬 코드 이해하기\n",
    "- url : 요청을 보내는 서버싀 주소\n",
    "- request.get(url) : 해당 서버(url)에 데이터를 달라고 요청을 보내는 함수\n",
    "- .json() : 데이터를 JSON(파이썬의 딕셔너리와 비슷함)형태로 변환해주는 함수 \n",
    "\n",
    "### 서버는 어떻게 요청을 해석할까\n",
    "- 서버에 요청을 보내는 클라이언트는 매우 다양 : 클라이언트들은 각자 다른 방식으로 요청\n",
    "\n",
    "### API\n",
    "- 클라이언트가 원하는 기능을 수행하기 위해서 서버 측에 만들어 놓은 프로그램 \n",
    "- 기능 예시 : 데이터 저장, 조회, 수정, 삭제 등\n",
    "- 서버 측에 특정 주소로 요청이 오면 정해진 기능을 수행하는 API를 미리 만들어둠\n",
    "- 클라이언트는 서버가 미리 만들어 놓은 주소로 요청을 보냄 \n",
    "> 내 코드가 API에 요청을 하면 API가 데이터 검색을 해서 데이터 조회된 것을 데이터 전달함.\n",
    "\n",
    "- 날씨 정보를 수집하기 위해서 찾아야 하는 것\n",
    ": 날씨 정보를 가지고 있는 서버와 해당 서버가 제공하는 API를 찾아야 함.\n",
    "\n",
    "#### 오픈 API\n",
    "- 외부에서 사용할 수 있도록 무료로 개방(OPEN)된 API\n",
    "- 사용법은 공식 문서(Docs)에 명시되어 있음\n",
    "- 프로젝트에서 사용되는 API \n",
    "- [기상 데이터 및 날씨 정보를 제공하는 오픈 API] : OpenWeatherMap API\n",
    "- [금융감독원에서 제공하는 금융 상품 정보를 제공하는 오픈 API] : 금융상품통합비교공시 API -> 관통 ver1에서 활용할 것!\n",
    "\n",
    "#### 오픈 API특징 및 주의사항\n",
    "1. 너무 많은 계정에서 동시에 요청을 보내면 서버가 못견딘다\n",
    "- 그래서 오픈 API는 API KEY 를 활용하여 사용자를 확인함(내용증명 해야함)\n",
    "- 사용자 인증 혹은 회원가입을 하면 서버에서 API KEY를 발급해 줌\n",
    "- 서버에 요청할 때마다 해당 API KEY를 함께 보내 정상적인 사용자인 것을 확인 받음\n",
    "\n",
    "2. 해당 계정에서 1초에 100만 개 요청보내면?? 정상적인 서비스 불가능\n",
    " - 일부 오픈 API는 사용량이 제한되어 있음\n",
    " - 공식문서의 일일 및 월간 사용량 제한을 반드시 확인해야 함\n",
    " - [주의] 사용량이 초가될 경우 요금이 청구될 수 있음\n",
    "\n",
    " ### JSON\n",
    " - API가 반환하는 데이터는 어떻게 생겼을까? JSON\n",
    " 내코드 requests로 API에 요청 -> API가 외부 서버에 요청 외부서버가 데이터 API로 전달\n",
    "\n",
    "- JavaScript Object Notation의 약자. '자바스크립트 객체 표기법'\n",
    "- 데이터를 저장하거나 전송할 때 많이 사용되는 경량의 텍스트 기반의 '데이터 형식'\n",
    "- 통신 방법이나 프로그래밍 문법이 아니라 단순히 데이터를 표현하는 표현 방법 중 하나\n",
    "- 특징\n",
    "  - 데이터는 중괄호({})로 둘러싸인 키-값 쌍의 집합으로 표현됨 : dict와 유사\n",
    "  - 키 = 문자열 / 값 = 데이터 유형을 가질 수 있음\n",
    "  - 값은 쉼표(,)로 구분"
   ]
  },
  {
   "cell_type": "code",
   "execution_count": 11,
   "metadata": {},
   "outputs": [
    {
     "name": "stdout",
     "output_type": "stream",
     "text": [
      "{'name': '김싸피', 'age': 28, 'hobbies': ['공부하기', '복습하기']}\n",
      "<class 'dict'>\n",
      "김싸피\n"
     ]
    }
   ],
   "source": [
    "import json   #내장 라이브러리(모듈)\n",
    "\n",
    "# json 데이터\n",
    "json_data = '''\n",
    "{ \n",
    "    \"name\" : \"김싸피\",\n",
    "    \"age\" : 28,\n",
    "    \"hobbies\" : [\n",
    "        \"공부하기\",\n",
    "        \"복습하기\"\n",
    "    ]\n",
    "    }\n",
    "\n",
    "'''\n",
    "data = json.loads(json_data)   # 문자열을 딕셔너리로 변환해줌\n",
    "print(data)\n",
    "print(type(data))\n",
    "\n",
    "# JSON 데이터에서 원하는 데이터만 가져오기\n",
    "name = data.get('name')\n",
    "print(name)"
   ]
  },
  {
   "cell_type": "markdown",
   "metadata": {},
   "source": [
    "- 파이썬은 JSON을 활용하는 기능을 가지고 있습니다\n",
    "- 파싱(Parsing) : 데이터를 의미있는 구조로 분석하고 해석하는 과정 : 원하는 형태로 변환하는 것도 파싱이라고 함\n",
    "- json.loads(): JSON 형식의 문자열을 파싱하여 python Dictionary로 변환\n",
    "\n",
    "\n",
    "### Openweathermap API\n",
    "- [기상 데이터 및 날씨 정보 제공하는 오픈 API](https://openweathermap.org/)\n",
    "- 사용량 제한 : 60 calls/minute   ,   1,000,000 calls/month\n",
    "- Current weather data 의 doc 활용하기 ★\n",
    "\n",
    "- Git bash에 jupyter notebook 치면 웹으로 열림 ★★\n",
    "9d9c7d7a3694d28aacb279729cfdf769\n",
    "\n",
    "- 'y' : 다시 코드모드로 변경\n",
    "- 'M' : 쉘 하나가 마크다운 모드로 변경\n",
    "- 'a' : 커서 기준 위에 쉘 하나 추가\n",
    "- 'b' : 커서 기준 아래에 쉘 하나 추가\n",
    "- dd : 쉘 삭제\n",
    "- shift + enter : 실행 후 커서를 아래로 이동\n",
    "- ctrl + enter : 실행 후 커서를 제자리에\n"
   ]
  },
  {
   "cell_type": "code",
   "execution_count": 27,
   "metadata": {},
   "outputs": [
    {
     "data": {
      "text/plain": [
       "{'coord': {'lon': 126.97, 'lat': 37.56},\n",
       " 'weather': [{'id': 721,\n",
       "   'main': 'Haze',\n",
       "   'description': 'haze',\n",
       "   'icon': '50d'}],\n",
       " 'base': 'stations',\n",
       " 'main': {'temp': 303.49,\n",
       "  'feels_like': 308.02,\n",
       "  'temp_min': 302.93,\n",
       "  'temp_max': 304.03,\n",
       "  'pressure': 1012,\n",
       "  'humidity': 66},\n",
       " 'visibility': 6000,\n",
       " 'wind': {'speed': 1.54, 'deg': 170},\n",
       " 'clouds': {'all': 20},\n",
       " 'dt': 1689903942,\n",
       " 'sys': {'type': 1,\n",
       "  'id': 8105,\n",
       "  'country': 'KR',\n",
       "  'sunrise': 1689884785,\n",
       "  'sunset': 1689936611},\n",
       " 'timezone': 32400,\n",
       " 'id': 1835848,\n",
       " 'name': 'Seoul',\n",
       " 'cod': 200}"
      ]
     },
     "execution_count": 27,
     "metadata": {},
     "output_type": "execute_result"
    }
   ],
   "source": [
    "API_KEY = '9d9c7d7a3694d28aacb279729cfdf769'\n",
    "\n",
    "# 특정 지역의 현재 날씨에 대한 모든 정보 출력하기 (서울의 위도 경도 활용해서 데이터 받아옴)\n",
    "lat = 37.56\n",
    "lon = 126.97\n",
    "url = f'https://api.openweathermap.org/data/2.5/weather?lat={lat}&lon={lon}&appid={API_KEY}'\n",
    "\n",
    "# 실습 할 때, url = f'https://api.openweathermap.org/data/2.5/weather? 까지는 그대로 두고 하기 \n",
    "\n",
    "import requests\n",
    "# API 요청 보내기\n",
    "response = requests.get(url).json()\n",
    "response"
   ]
  },
  {
   "cell_type": "code",
   "execution_count": 29,
   "metadata": {},
   "outputs": [
    {
     "data": {
      "text/plain": [
       "{'coord': {'lon': 126.9778, 'lat': 37.5683},\n",
       " 'weather': [{'id': 721,\n",
       "   'main': 'Haze',\n",
       "   'description': 'haze',\n",
       "   'icon': '50d'}],\n",
       " 'base': 'stations',\n",
       " 'main': {'temp': 303.36,\n",
       "  'feels_like': 307.72,\n",
       "  'temp_min': 302.81,\n",
       "  'temp_max': 303.91,\n",
       "  'pressure': 1012,\n",
       "  'humidity': 66},\n",
       " 'visibility': 6000,\n",
       " 'wind': {'speed': 1.54, 'deg': 170},\n",
       " 'clouds': {'all': 20},\n",
       " 'dt': 1689903982,\n",
       " 'sys': {'type': 1,\n",
       "  'id': 8105,\n",
       "  'country': 'KR',\n",
       "  'sunrise': 1689884782,\n",
       "  'sunset': 1689936610},\n",
       " 'timezone': 32400,\n",
       " 'id': 1835848,\n",
       " 'name': 'Seoul',\n",
       " 'cod': 200}"
      ]
     },
     "execution_count": 29,
     "metadata": {},
     "output_type": "execute_result"
    }
   ],
   "source": [
    "city_name = 'Seoul,KR'\n",
    "url = f'https://api.openweathermap.org/data/2.5/weather?q={city_name}&appid={API_KEY}'\n",
    "\n",
    "import requests\n",
    "# API 요청 보내기\n",
    "response = requests.get(url).json()\n",
    "response"
   ]
  },
  {
   "cell_type": "code",
   "execution_count": 24,
   "metadata": {},
   "outputs": [
    {
     "data": {
      "text/plain": [
       "30.210000000000036"
      ]
     },
     "execution_count": 24,
     "metadata": {},
     "output_type": "execute_result"
    }
   ],
   "source": [
    "import requests\n",
    "# API 요청 보내기\n",
    "# 온도만 출력\n",
    "temp = response['main']['temp']  # main이라는 key 값으로 들어가서 나오는것도 딕셔너리고 거기서 또 temp로 들어가기!\n",
    "# 섭씨 온도\n",
    "temp -= 273.15\n",
    "temp"
   ]
  },
  {
   "cell_type": "code",
   "execution_count": 30,
   "metadata": {},
   "outputs": [
    {
     "data": {
      "text/plain": [
       "{'coord': {'lon': 126.9778, 'lat': 37.5683},\n",
       " 'weather': [{'id': 721,\n",
       "   'main': 'Haze',\n",
       "   'description': 'haze',\n",
       "   'icon': '50d'}],\n",
       " 'base': 'stations',\n",
       " 'main': {'temp': 303.36,\n",
       "  'feels_like': 307.72,\n",
       "  'temp_min': 302.81,\n",
       "  'temp_max': 303.91,\n",
       "  'pressure': 1012,\n",
       "  'humidity': 66},\n",
       " 'visibility': 6000,\n",
       " 'wind': {'speed': 1.54, 'deg': 170},\n",
       " 'clouds': {'all': 20},\n",
       " 'dt': 1689903982,\n",
       " 'sys': {'type': 1,\n",
       "  'id': 8105,\n",
       "  'country': 'KR',\n",
       "  'sunrise': 1689884782,\n",
       "  'sunset': 1689936610},\n",
       " 'timezone': 32400,\n",
       " 'id': 1835848,\n",
       " 'name': 'Seoul',\n",
       " 'cod': 200}"
      ]
     },
     "execution_count": 30,
     "metadata": {},
     "output_type": "execute_result"
    }
   ],
   "source": [
    "response  # 딕셔너리 안에 리스트로 들어있는 경우 "
   ]
  },
  {
   "cell_type": "markdown",
   "metadata": {},
   "source": [
    "# 금융 상품 비교 앱 Ver1_PJT01 도전과제\n",
    "- 프로젝트 목표\n",
    "\n",
    "  : 파이썬으로 정기 예금 데이터 수집 및 미션 수행 (금융감독원에서 API받고 KEY,requests, 추출)\n",
    "\n",
    "- 외부 서버를 활용한 데이터 수집\n",
    "- 요구사항에 맞게 JSON 형태 데이터 가공\n",
    "\n",
    "# Ver2_ 파이썬으로 도서 및 아티스트 데이터 가공 및 미션 수행\n",
    "\n"
   ]
  },
  {
   "cell_type": "code",
   "execution_count": null,
   "metadata": {},
   "outputs": [],
   "source": []
  }
 ],
 "metadata": {
  "kernelspec": {
   "display_name": "Python 3",
   "language": "python",
   "name": "python3"
  },
  "language_info": {
   "codemirror_mode": {
    "name": "ipython",
    "version": 3
   },
   "file_extension": ".py",
   "mimetype": "text/x-python",
   "name": "python",
   "nbconvert_exporter": "python",
   "pygments_lexer": "ipython3",
   "version": "3.9.13"
  },
  "orig_nbformat": 4
 },
 "nbformat": 4,
 "nbformat_minor": 2
}
